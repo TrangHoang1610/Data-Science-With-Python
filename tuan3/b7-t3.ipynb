{
 "cells": [
  {
   "cell_type": "markdown",
   "metadata": {},
   "source": [
    "7.Create a 3x3x3 array with random values"
   ]
  },
  {
   "cell_type": "code",
   "execution_count": 10,
   "metadata": {},
   "outputs": [
    {
     "data": {
      "text/plain": [
       "array([[[ 345, -555, -717],\n",
       "        [ 399,  695, -270],\n",
       "        [ 372,  554,  805]],\n",
       "\n",
       "       [[ 499,  925, -876],\n",
       "        [-546,  818,  737],\n",
       "        [ 600,  226,  890]],\n",
       "\n",
       "       [[ 377, -472,  -47],\n",
       "        [ 241,  579,  924],\n",
       "        [-108, -963, -263]]])"
      ]
     },
     "execution_count": 10,
     "metadata": {},
     "output_type": "execute_result"
    }
   ],
   "source": [
    "import numpy as np \n",
    "a = np.random.randint(-1000,1000,(3,3,3))\n",
    "a\n"
   ]
  },
  {
   "cell_type": "code",
   "execution_count": null,
   "metadata": {},
   "outputs": [],
   "source": []
  }
 ],
 "metadata": {
  "kernelspec": {
   "display_name": "Python 3",
   "language": "python",
   "name": "python3"
  },
  "language_info": {
   "codemirror_mode": {
    "name": "ipython",
    "version": 3
   },
   "file_extension": ".py",
   "mimetype": "text/x-python",
   "name": "python",
   "nbconvert_exporter": "python",
   "pygments_lexer": "ipython3",
   "version": "3.6.5"
  }
 },
 "nbformat": 4,
 "nbformat_minor": 2
}
