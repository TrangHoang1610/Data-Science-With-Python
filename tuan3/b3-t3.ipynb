{
 "cells": [
  {
   "cell_type": "markdown",
   "metadata": {},
   "source": [
    "3.How to find common values between two arrays?"
   ]
  },
  {
   "cell_type": "code",
   "execution_count": 32,
   "metadata": {},
   "outputs": [
    {
     "data": {
      "text/plain": [
       "array([42, 71, 37, 38,  3,  0, 37,  9,  2, 30, 55,  9, 92, 50,  6, 25, 48,\n",
       "       78, 93, 21, 37, 51, 37, 97, 70, 97, 55, 85, 86, 78, 60, 65, 70, 60,\n",
       "        6, 34, 70, 11, 79,  1, 23, 82, 88, 88, 19, 75,  6, 42, 33, 56])"
      ]
     },
     "execution_count": 32,
     "metadata": {},
     "output_type": "execute_result"
    }
   ],
   "source": [
    "import numpy as np \n",
    "a = np.random.randint(0,100,50)\n",
    "a"
   ]
  },
  {
   "cell_type": "code",
   "execution_count": 33,
   "metadata": {},
   "outputs": [
    {
     "data": {
      "text/plain": [
       "array([11,  2, 40, 44, 54, 53, 68,  6, 37, 38, 60, 62, 82, 89, 78, 45, 35,\n",
       "       38, 30, 85, 12, 91, 31, 90, 50, 88, 53, 13, 30, 28, 94, 87, 30, 35,\n",
       "       83, 93,  4, 33, 50, 91, 22, 16, 10, 91, 48,  7, 99, 87, 21, 40])"
      ]
     },
     "execution_count": 33,
     "metadata": {},
     "output_type": "execute_result"
    }
   ],
   "source": [
    "b = np.random.randint(0,100,50)\n",
    "b"
   ]
  },
  {
   "cell_type": "code",
   "execution_count": 34,
   "metadata": {},
   "outputs": [
    {
     "data": {
      "text/plain": [
       "array([ 2,  6, 11, 21, 30, 33, 37, 38, 48, 50, 60, 78, 82, 85, 88, 93])"
      ]
     },
     "execution_count": 34,
     "metadata": {},
     "output_type": "execute_result"
    }
   ],
   "source": [
    "c=(np.intersect1d(a,b))\n",
    "c"
   ]
  }
 ],
 "metadata": {
  "kernelspec": {
   "display_name": "Python 3",
   "language": "python",
   "name": "python3"
  },
  "language_info": {
   "codemirror_mode": {
    "name": "ipython",
    "version": 3
   },
   "file_extension": ".py",
   "mimetype": "text/x-python",
   "name": "python",
   "nbconvert_exporter": "python",
   "pygments_lexer": "ipython3",
   "version": "3.6.5"
  }
 },
 "nbformat": 4,
 "nbformat_minor": 2
}
