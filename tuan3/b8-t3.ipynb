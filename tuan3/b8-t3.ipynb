{
 "cells": [
  {
   "cell_type": "markdown",
   "metadata": {},
   "source": [
    "8.Create a random vector of size 30 and find the mean value"
   ]
  },
  {
   "cell_type": "code",
   "execution_count": 6,
   "metadata": {},
   "outputs": [
    {
     "data": {
      "text/plain": [
       "array([0.75223878, 0.13169271, 0.47501555, 0.42986033, 0.05579066,\n",
       "       0.6922908 , 0.51968749, 0.87966099, 0.99080907, 0.44309676,\n",
       "       0.65343473, 0.0402933 , 0.15948258, 0.4830161 , 0.01523807,\n",
       "       0.08805728, 0.63292321, 0.38325886, 0.97991161, 0.46992657,\n",
       "       0.85703407, 0.56804048, 0.60622963, 0.66148881, 0.90954746,\n",
       "       0.01071732, 0.42128546, 0.31259048, 0.11258663, 0.75879833])"
      ]
     },
     "execution_count": 6,
     "metadata": {},
     "output_type": "execute_result"
    }
   ],
   "source": [
    "import numpy as np \n",
    "a = np.random.random(30)\n",
    "a"
   ]
  },
  {
   "cell_type": "code",
   "execution_count": 11,
   "metadata": {},
   "outputs": [
    {
     "data": {
      "text/plain": [
       "0.5459283369910932"
      ]
     },
     "execution_count": 11,
     "metadata": {},
     "output_type": "execute_result"
    }
   ],
   "source": [
    "np.mean(a)"
   ]
  }
 ],
 "metadata": {
  "kernelspec": {
   "display_name": "Python 3",
   "language": "python",
   "name": "python3"
  },
  "language_info": {
   "codemirror_mode": {
    "name": "ipython",
    "version": 3
   },
   "file_extension": ".py",
   "mimetype": "text/x-python",
   "name": "python",
   "nbconvert_exporter": "python",
   "pygments_lexer": "ipython3",
   "version": "3.6.5"
  }
 },
 "nbformat": 4,
 "nbformat_minor": 2
}
