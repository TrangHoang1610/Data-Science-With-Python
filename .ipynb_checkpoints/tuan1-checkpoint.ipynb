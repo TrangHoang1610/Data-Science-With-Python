{
 "cells": [
  {
   "cell_type": "markdown",
   "metadata": {},
   "source": [
    "bài 1 "
   ]
  },
  {
   "cell_type": "code",
   "execution_count": 1,
   "metadata": {},
   "outputs": [
    {
     "name": "stdout",
     "output_type": "stream",
     "text": [
      "Current date and time : \n",
      "2018-08-27 12:10:27\n"
     ]
    }
   ],
   "source": [
    "import datetime                                #truy cap Module datetime\n",
    "\n",
    "now = datetime.datetime.now()                 #datetime.datetime:đại diện cho ngày, tháng và thời gian\n",
    "                                              #.now():ngày, tháng và thời gian hiện tại \n",
    "print (\"Current date and time : \")            #in ra \"Current date and time : \"\n",
    "\n",
    "print (now.strftime(\"%Y-%m-%d %H:%M:%S\"))     #now.strftime :chuyển đổi một tuple thành một chuỗi được xác định bởi tham số\n",
    "                                              # %Y - Năm bao gồm cả century\n",
    "                                              # %m - Tháng (01 tới 12)\n",
    "                                              # %d - Ngày trong tháng (01 to 31)\n",
    "                                              # %H - Giờ, sử dụng 24h (từ 00 tới 23)  \n",
    "                                              # %M - Phút\n",
    "                                              # %S - Giây\n"
   ]
  },
  {
   "cell_type": "code",
   "execution_count": 2,
   "metadata": {},
   "outputs": [
    {
     "name": "stdout",
     "output_type": "stream",
     "text": [
      "20\n",
      "12\n",
      "22\n"
     ]
    }
   ],
   "source": [
    "def sum(x, y):    #khai bao ham sum \n",
    "    sum = x + y   #cong 2 so x,y\n",
    "    if sum in range(15, 20):   #neu tong 2 so trong pham vi tu 15 den 20\n",
    "        return 20              # cha ve ket qua la 20\n",
    "    else:                      #nguoc lai\n",
    "        return sum             #cha ve dung ket qua x + y\n",
    "\n",
    "print(sum(10, 6))            # tong 16 năm trong khoang 15->20 => ket qua 20 \n",
    "print(sum(10, 2))            # tong 12 khong năm trong khoang 15->20 => ket qua 12\n",
    "print(sum(10, 12))           # tong 22 khong năm trong khoang 15->20 => ket qua 22\n"
   ]
  },
  {
   "cell_type": "code",
   "execution_count": null,
   "metadata": {},
   "outputs": [],
   "source": []
  }
 ],
 "metadata": {
  "kernelspec": {
   "display_name": "Python 3",
   "language": "python",
   "name": "python3"
  },
  "language_info": {
   "codemirror_mode": {
    "name": "ipython",
    "version": 3
   },
   "file_extension": ".py",
   "mimetype": "text/x-python",
   "name": "python",
   "nbconvert_exporter": "python",
   "pygments_lexer": "ipython3",
   "version": "3.6.5"
  }
 },
 "nbformat": 4,
 "nbformat_minor": 2
}
